{
 "cells": [
  {
   "cell_type": "code",
   "execution_count": 1,
   "metadata": {
    "collapsed": true
   },
   "outputs": [],
   "source": [
    "README = '''\n",
    "Julian Smoller ~ 2018\n",
    "\n",
    "The purpose of this project is to play around with the old computer game \"Sim Tower.\" \n",
    "In this notebook, I attempt to replicate a Sim Tower as an image. \n",
    "\n",
    "Notes:\n",
    "Optimal Tower design:\n",
    "Width: 18 Condos = 32 Offices (exactly!)\n",
    "\n",
    "Stairs:\n",
    "Two sets of stairs, evenly spaced, no more than 8 offices away:\n",
    "8 offices | stairs | 8 offices | 8 offices | stairs | 8 offices\n",
    "=> 32 offices per floor\n",
    "OOOOOOOO S OOOOOOOO OOOOOOOO S OOOOOOOO\n",
    "=> one between 8th and 9th offices, one between 24th and 25th offices\n",
    "\n",
    "Standard Elevators:\n",
    "Three elevators, evenly spaced with 3 condos on either side:\n",
    "CCC E CCC CCC E CCC CCC E CCC \n",
    "=> Between condos: (3,4), (9,10), (15,16)\n",
    "3 elevators spanning floors (0,13), (15,28), (30,43), (45,58) => 12\n",
    "2 elevators spanning floors (60,73) => 2\n",
    "1 elevator spanning floors (73,100) => 1\n",
    "==> 15 total\n",
    "\n",
    "Express Elevators:\n",
    "Horizontal location does not matter, so you can group them on the left or right\n",
    "2 per lobby for floors 15, 30, 45, 60 => 8\n",
    "1 for lobby for floor 75 => 1\n",
    "==> 9 total\n",
    "===> 24 elevators total\n",
    "\n",
    "\n",
    "Floorplan:\n",
    "\n",
    "30 Lobby\n",
    "28-29 Food/Shops\n",
    "24-27 Condos\n",
    "19-23 Hotel\n",
    "16-18 Offices\n",
    "-------------\n",
    "15 Lobby\n",
    "13-14 Food/Shops\n",
    "8-12 Hotel\n",
    "5-7 Condos\n",
    "4 Offices\n",
    "1-3 Lobby\n",
    "-------------\n",
    "\n",
    "Income:\n",
    "Ground floor lobby does not cost anything for maintenance\n",
    "Each housekeeping unit costs 100(x100) per quarter for maintenance\n",
    "\n",
    "'''"
   ]
  },
  {
   "cell_type": "code",
   "execution_count": null,
   "metadata": {
    "collapsed": true
   },
   "outputs": [],
   "source": []
  }
 ],
 "metadata": {
  "kernelspec": {
   "display_name": "Python 3",
   "language": "python",
   "name": "python3"
  },
  "language_info": {
   "codemirror_mode": {
    "name": "ipython",
    "version": 3
   },
   "file_extension": ".py",
   "mimetype": "text/x-python",
   "name": "python",
   "nbconvert_exporter": "python",
   "pygments_lexer": "ipython3",
   "version": "3.6.3"
  }
 },
 "nbformat": 4,
 "nbformat_minor": 2
}
